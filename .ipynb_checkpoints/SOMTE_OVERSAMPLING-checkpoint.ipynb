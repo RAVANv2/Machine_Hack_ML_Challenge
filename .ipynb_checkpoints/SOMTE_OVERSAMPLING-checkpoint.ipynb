{
 "cells": [
  {
   "cell_type": "code",
   "execution_count": 80,
   "metadata": {},
   "outputs": [],
   "source": [
    "import numpy as np\n",
    "import matplotlib.pyplot as plt\n",
    "import seaborn as sns\n",
    "import pandas as pd\n",
    "import os\n",
    "%matplotlib inline\n",
    "\n",
    "from collections import Counter\n",
    "\n",
    "from sklearn.ensemble import RandomForestClassifier, AdaBoostClassifier, GradientBoostingClassifier, ExtraTreesClassifier, VotingClassifier\n",
    "from sklearn.discriminant_analysis import LinearDiscriminantAnalysis\n",
    "from sklearn.linear_model import LogisticRegression\n",
    "from sklearn.neighbors import KNeighborsClassifier\n",
    "from sklearn.tree import DecisionTreeClassifier\n",
    "from sklearn.neural_network import MLPClassifier\n",
    "from sklearn.svm import SVC\n",
    "from sklearn.model_selection import GridSearchCV, cross_val_score, StratifiedKFold, learning_curve, GroupShuffleSplit,RandomizedSearchCV\n",
    "from xgboost import XGBClassifier\n",
    "\n",
    "from sklearn.decomposition import PCA\n",
    "from sklearn.preprocessing import StandardScaler\n",
    "from sklearn.model_selection import train_test_split"
   ]
  },
  {
   "cell_type": "code",
   "execution_count": 81,
   "metadata": {},
   "outputs": [],
   "source": [
    "train_1 = pd.read_csv('Train.csv')\n",
    "test_1 = pd.read_csv('Test.csv')\n",
    "train = train_1.copy()\n",
    "test = test_1.copy()\n",
    "\n",
    "delete = ['f23','f24','f25','f26','f27']\n",
    "for i in delete:\n",
    "    del train[i]"
   ]
  },
  {
   "cell_type": "code",
   "execution_count": 82,
   "metadata": {
    "scrolled": true
   },
   "outputs": [],
   "source": [
    "# def Features(X):\n",
    "#     add = 0\n",
    "#     X['Sum']=0\n",
    "#     X['Min']=0\n",
    "#     X['Max']=0\n",
    "#     X['Mean']=0\n",
    "#     Min=[]\n",
    "#     Max=[]\n",
    "#     X['Sum'] = X['Sum'].astype(float)\n",
    "#     X['Min'] = X['Min'].astype(float)\n",
    "#     X['Max'] = X['Max'].astype(float)\n",
    "#     X['Mean'] = X['Mean'].astype(float)\n",
    "#     li = X.columns.to_list()\n",
    "#     for i in range(len(X['f1'])):\n",
    "#         add=0\n",
    "#         Min.clear()\n",
    "#         Max.clear()\n",
    "#         for j in li:\n",
    "#             add+=X[j][i]\n",
    "#             Min.append(X[j][i])\n",
    "#             Max.append(X[j][i])\n",
    "#         X['Sum'][i] = add\n",
    "#         X['Min'][i] = min(Min)\n",
    "#         X['Max'][i] = max(Max)\n",
    "#         X['Mean'][i] = add/23\n",
    "#     return X\n",
    "# train = Features(train)"
   ]
  },
  {
   "cell_type": "code",
   "execution_count": null,
   "metadata": {},
   "outputs": [],
   "source": []
  },
  {
   "cell_type": "code",
   "execution_count": 83,
   "metadata": {},
   "outputs": [],
   "source": [
    "Y = train.grade\n",
    "X = train.drop(['grade'],axis=1)"
   ]
  },
  {
   "cell_type": "code",
   "execution_count": 90,
   "metadata": {},
   "outputs": [],
   "source": [
    "from imblearn.over_sampling import SMOTE\n",
    "smote = SMOTE('minority')\n",
    "X_sm,Y_sm = smote.fit_sample(X,Y)"
   ]
  },
  {
   "cell_type": "code",
   "execution_count": 91,
   "metadata": {},
   "outputs": [
    {
     "data": {
      "text/plain": [
       "3    472\n",
       "1    472\n",
       "4    472\n",
       "2    472\n",
       "0    472\n",
       "Name: grade, dtype: int64"
      ]
     },
     "execution_count": 91,
     "metadata": {},
     "output_type": "execute_result"
    }
   ],
   "source": [
    "Y_sm.value_counts()"
   ]
  },
  {
   "cell_type": "code",
   "execution_count": 92,
   "metadata": {},
   "outputs": [],
   "source": [
    "# sc = StandardScaler()\n",
    "# X_sm = sc.fit_transform(X_sm)"
   ]
  },
  {
   "cell_type": "code",
   "execution_count": 93,
   "metadata": {},
   "outputs": [],
   "source": [
    "x_train,x_test,y_train,y_test = train_test_split(X_sm,Y_sm,test_size=0.15,random_state=27)"
   ]
  },
  {
   "cell_type": "code",
   "execution_count": 94,
   "metadata": {},
   "outputs": [
    {
     "name": "stdout",
     "output_type": "stream",
     "text": [
      "logloss: 0.069 \n",
      "0.9858757062146892\n"
     ]
    }
   ],
   "source": [
    "from lightgbm import LGBMClassifier\n",
    "from sklearn.metrics import log_loss,accuracy_score\n",
    "lgbm = LGBMClassifier()\n",
    "lgbm.fit(x_train,y_train)\n",
    "predictions = lgbm.predict_proba(x_test)\n",
    "predict = lgbm.predict(x_test)\n",
    "print(\"logloss: %0.3f \" % log_loss(y_test, predictions))\n",
    "print(accuracy_score(y_test,predict))"
   ]
  },
  {
   "cell_type": "code",
   "execution_count": 95,
   "metadata": {},
   "outputs": [],
   "source": [
    "from catboost import CatBoostClassifier\n",
    "# cat = CatBoostClassifier()\n",
    "cat = CatBoostClassifier(n_estimators=2000,\n",
    "                         one_hot_max_size=2,\n",
    "                         loss_function='MultiClass',\n",
    "                         eval_metric='WKappa',\n",
    "                         task_type='CPU',                \n",
    "                         random_seed=5, \n",
    "#                          use_best_model=True,\n",
    "                         silent=True\n",
    "                        )"
   ]
  },
  {
   "cell_type": "code",
   "execution_count": 96,
   "metadata": {},
   "outputs": [
    {
     "name": "stdout",
     "output_type": "stream",
     "text": [
      "logloss: 0.056 \n",
      "0.9887005649717514\n"
     ]
    }
   ],
   "source": [
    "from sklearn.metrics import log_loss,accuracy_score\n",
    "cat.fit(x_train,y_train)\n",
    "predictions = cat.predict_proba(x_test)\n",
    "predict = cat.predict(x_test)\n",
    "print(\"logloss: %0.3f \" % log_loss(y_test, predictions))\n",
    "print(accuracy_score(y_test,predict))"
   ]
  },
  {
   "cell_type": "code",
   "execution_count": null,
   "metadata": {},
   "outputs": [],
   "source": []
  },
  {
   "cell_type": "code",
   "execution_count": 97,
   "metadata": {},
   "outputs": [],
   "source": [
    "for i in delete:\n",
    "    del test[i]"
   ]
  },
  {
   "cell_type": "code",
   "execution_count": 98,
   "metadata": {},
   "outputs": [],
   "source": [
    "pred = cat.predict_proba(test)"
   ]
  },
  {
   "cell_type": "code",
   "execution_count": 99,
   "metadata": {},
   "outputs": [],
   "source": [
    "sub = pd.DataFrame(pred)"
   ]
  },
  {
   "cell_type": "code",
   "execution_count": 100,
   "metadata": {},
   "outputs": [],
   "source": [
    "sub.to_excel(\"cat_FINAL_SC.xlsx\",index=False)"
   ]
  },
  {
   "cell_type": "code",
   "execution_count": null,
   "metadata": {},
   "outputs": [],
   "source": []
  },
  {
   "cell_type": "code",
   "execution_count": null,
   "metadata": {},
   "outputs": [],
   "source": []
  }
 ],
 "metadata": {
  "kernelspec": {
   "display_name": "Python 3",
   "language": "python",
   "name": "python3"
  },
  "language_info": {
   "codemirror_mode": {
    "name": "ipython",
    "version": 3
   },
   "file_extension": ".py",
   "mimetype": "text/x-python",
   "name": "python",
   "nbconvert_exporter": "python",
   "pygments_lexer": "ipython3",
   "version": "3.7.4"
  }
 },
 "nbformat": 4,
 "nbformat_minor": 2
}
